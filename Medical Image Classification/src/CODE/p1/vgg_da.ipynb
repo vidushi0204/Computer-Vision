{
 "cells": [
  {
   "cell_type": "code",
   "execution_count": null,
   "id": "ef59eb51",
   "metadata": {
    "_cell_guid": "b1076dfc-b9ad-4769-8c92-a6c4dae69d19",
    "_uuid": "8f2839f25d086af736a60e9eeb907d3b93b6e0e5",
    "execution": {
     "iopub.execute_input": "2025-03-26T14:54:30.430023Z",
     "iopub.status.busy": "2025-03-26T14:54:30.429725Z",
     "iopub.status.idle": "2025-03-26T14:54:30.434380Z",
     "shell.execute_reply": "2025-03-26T14:54:30.433700Z"
    },
    "papermill": {
     "duration": 0.009043,
     "end_time": "2025-03-26T14:54:30.435577",
     "exception": false,
     "start_time": "2025-03-26T14:54:30.426534",
     "status": "completed"
    },
    "tags": []
   },
   "outputs": [],
   "source": [
    "import sys\n",
    "sys.path.append(\"/kaggle/input/read-data\")\n",
    "\n",
    "import torch\n",
    "import torch.nn as nn\n",
    "import torch.optim as optim\n",
    "from torch.utils.data import DataLoader\n",
    "import torchvision.models as models\n",
    "from tqdm import tqdm\n",
    "from read_data import PCamDataset, transform"
   ]
  },
  {
   "cell_type": "code",
   "execution_count": null,
   "id": "ced1de17",
   "metadata": {
    "execution": {
     "iopub.execute_input": "2025-03-26T14:54:30.439603Z",
     "iopub.status.busy": "2025-03-26T14:54:30.439387Z",
     "iopub.status.idle": "2025-03-26T14:54:38.297539Z",
     "shell.execute_reply": "2025-03-26T14:54:38.296767Z"
    },
    "papermill": {
     "duration": 7.861557,
     "end_time": "2025-03-26T14:54:38.299001",
     "exception": false,
     "start_time": "2025-03-26T14:54:30.437444",
     "status": "completed"
    },
    "tags": []
   },
   "outputs": [],
   "source": [
    "batch_size = 32\n",
    "learning_rate = 1e-3\n",
    "momentum = 0.9\n",
    "device = torch.device(\"cuda\" if torch.cuda.is_available() else \"cpu\")\n",
    "train_pref = \"/kaggle/input/train-data/\"\n",
    "val_pref = \"/kaggle/input/val-data/\""
   ]
  },
  {
   "cell_type": "code",
   "execution_count": null,
   "id": "77c44e30",
   "metadata": {
    "execution": {
     "iopub.execute_input": "2025-03-26T14:54:38.303268Z",
     "iopub.status.busy": "2025-03-26T14:54:38.302871Z",
     "iopub.status.idle": "2025-03-26T14:54:38.335888Z",
     "shell.execute_reply": "2025-03-26T14:54:38.335307Z"
    },
    "papermill": {
     "duration": 0.036287,
     "end_time": "2025-03-26T14:54:38.337089",
     "exception": false,
     "start_time": "2025-03-26T14:54:38.300802",
     "status": "completed"
    },
    "tags": []
   },
   "outputs": [],
   "source": [
    "\n",
    "train_dataset = PCamDataset(train_pref+\"camelyonpatch_level_2_split_train_x.h5\", train_pref+\"camelyonpatch_level_2_split_train_y.h5\", transform=transform)\n",
    "train_loader = DataLoader(train_dataset, batch_size=batch_size, shuffle=True, num_workers = 4,pin_memory=True)\n",
    "val_dataset = PCamDataset(val_pref+\"camelyonpatch_level_2_split_valid_x.h5\", val_pref+\"camelyonpatch_level_2_split_valid_y.h5\")\n",
    "val_loader = DataLoader(val_dataset, batch_size=batch_size, shuffle=True, num_workers = 4,pin_memory=True)\n"
   ]
  },
  {
   "cell_type": "code",
   "execution_count": null,
   "id": "6ec5ad4f",
   "metadata": {
    "execution": {
     "iopub.execute_input": "2025-03-26T14:54:38.340969Z",
     "iopub.status.busy": "2025-03-26T14:54:38.340767Z",
     "iopub.status.idle": "2025-03-26T14:54:42.756745Z",
     "shell.execute_reply": "2025-03-26T14:54:42.756042Z"
    },
    "papermill": {
     "duration": 4.419627,
     "end_time": "2025-03-26T14:54:42.758340",
     "exception": false,
     "start_time": "2025-03-26T14:54:38.338713",
     "status": "completed"
    },
    "tags": []
   },
   "outputs": [],
   "source": [
    "vgg16 = models.vgg16(pretrained=True)\n",
    "vgg16.classifier[6] = nn.Linear(vgg16.classifier[6].in_features, 2)\n",
    "vgg16 = vgg16.to(device)\n",
    "\n",
    "criterion = nn.CrossEntropyLoss()\n",
    "optimizer_vgg = optim.SGD(vgg16.parameters(), lr=learning_rate, momentum=momentum)\n",
    "\n",
    "history=[]\n",
    "\n",
    "def evaluate(model, dataloader):\n",
    "    model.eval()  \n",
    "    total_loss = 0.0\n",
    "    correct = 0\n",
    "    total = 0\n",
    "    \n",
    "    with torch.no_grad(): \n",
    "        for images, labels in dataloader:\n",
    "            images, labels = images.to(device), labels.to(device)\n",
    "            \n",
    "            outputs = model(images)\n",
    "            loss = criterion(outputs, labels)\n",
    "            total_loss += loss.item()\n",
    "\n",
    "            _, predicted = outputs.max(1)\n",
    "            correct += predicted.eq(labels).sum().item()\n",
    "            total += labels.size(0)\n",
    "\n",
    "    avg_loss = total_loss / len(dataloader)\n",
    "    accuracy = 100.0 * correct / total\n",
    "    return avg_loss, accuracy\n",
    "\n",
    "def train_model(model, optimizer, train_loader, val_loader, epochs, model_name):\n",
    "    for epoch in range(epochs):\n",
    "        model.train()\n",
    "        progress_bar = tqdm(train_loader, desc=f\"{model_name} - Epoch {epoch+1}/{epochs}\")\n",
    "\n",
    "        for imgs, labels in progress_bar:\n",
    "            imgs, labels = imgs.to(device), labels.to(device)\n",
    "            \n",
    "            optimizer.zero_grad()\n",
    "            outputs = model(imgs)\n",
    "            loss = criterion(outputs, labels)\n",
    "            loss.backward()\n",
    "            optimizer.step()\n",
    "            \n",
    "        train_loss, train_accuracy = evaluate(model,train_loader)\n",
    "        val_loss, val_accuracy = evaluate(model,val_loader)\n",
    "        history.append([train_loss, train_accuracy, val_loss, val_accuracy]) "
   ]
  },
  {
   "cell_type": "code",
   "execution_count": null,
   "id": "ced54671",
   "metadata": {
    "execution": {
     "iopub.execute_input": "2025-03-26T14:54:42.765552Z",
     "iopub.status.busy": "2025-03-26T14:54:42.765304Z",
     "iopub.status.idle": "2025-03-26T19:52:17.147529Z",
     "shell.execute_reply": "2025-03-26T19:52:17.146013Z"
    },
    "papermill": {
     "duration": 17859.369405,
     "end_time": "2025-03-26T19:52:22.131113",
     "exception": true,
     "start_time": "2025-03-26T14:54:42.761708",
     "status": "failed"
    },
    "tags": []
   },
   "outputs": [],
   "source": [
    "train_model(vgg16, optimizer_vgg, train_loader, val_loader, 25, \"VGG16\")\n",
    "save_path = f\"/kaggle/working/vgg.pth\"\n",
    "torch.save(vgg16.state_dict(), save_path)\n",
    "\n",
    "print(history)"
   ]
  }
 ],
 "metadata": {
  "kaggle": {
   "accelerator": "gpu",
   "dataSources": [
    {
     "datasetId": 6968402,
     "sourceId": 11166597,
     "sourceType": "datasetVersion"
    },
    {
     "datasetId": 6973660,
     "sourceId": 11173816,
     "sourceType": "datasetVersion"
    },
    {
     "datasetId": 6974387,
     "sourceId": 11174775,
     "sourceType": "datasetVersion"
    }
   ],
   "isGpuEnabled": true,
   "isInternetEnabled": true,
   "language": "python",
   "sourceType": "notebook"
  },
  "kernelspec": {
   "display_name": "Python 3",
   "language": "python",
   "name": "python3"
  },
  "language_info": {
   "codemirror_mode": {
    "name": "ipython",
    "version": 3
   },
   "file_extension": ".py",
   "mimetype": "text/x-python",
   "name": "python",
   "nbconvert_exporter": "python",
   "pygments_lexer": "ipython3",
   "version": "3.10.12"
  },
  "papermill": {
   "default_parameters": {},
   "duration": 17881.178198,
   "end_time": "2025-03-26T19:52:29.094410",
   "environment_variables": {},
   "exception": true,
   "input_path": "__notebook__.ipynb",
   "output_path": "__notebook__.ipynb",
   "parameters": {},
   "start_time": "2025-03-26T14:54:27.916212",
   "version": "2.6.0"
  }
 },
 "nbformat": 4,
 "nbformat_minor": 5
}
